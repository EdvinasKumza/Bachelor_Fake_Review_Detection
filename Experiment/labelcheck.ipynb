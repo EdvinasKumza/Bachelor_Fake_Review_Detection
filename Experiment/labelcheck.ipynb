{
 "cells": [
  {
   "cell_type": "code",
   "execution_count": 2,
   "id": "2e619112",
   "metadata": {},
   "outputs": [
    {
     "name": "stdout",
     "output_type": "stream",
     "text": [
      "\n",
      "Label distribution:\n",
      " Label\n",
      " 1    322167\n",
      "-1     36885\n",
      "Name: count, dtype: int64\n",
      "\n",
      "Label distribution:\n",
      " LABEL\n",
      " 1    17926\n",
      "-1     2074\n",
      "Name: count, dtype: int64\n",
      "\n",
      "Label distribution:\n",
      " deceptive\n",
      "truthful     800\n",
      "deceptive    800\n",
      "Name: count, dtype: int64\n",
      "\n",
      "Label distribution:\n",
      " label\n",
      "genuine    2651\n",
      "fake       1546\n",
      "Name: count, dtype: int64\n"
     ]
    }
   ],
   "source": [
    "import pandas as pd\n",
    "\n",
    "file_path = '../Experiment/Datasets/Labelled Yelp Dataset.csv'\n",
    "file_path2 = '../Experiment/Datasets/Yelp Dataset Reduced.csv'\n",
    "file_path3 = '../Experiment/Datasets/Fake Reviews Multi Source For Testing.csv'\n",
    "file_path4 = '../Experiment/Datasets/Google Play App Store For Testing.csv'\n",
    "df = pd.read_csv(file_path)\n",
    "df2 = pd.read_csv(file_path2)\n",
    "df3 = pd.read_csv(file_path3)\n",
    "df4 = pd.read_csv(file_path4)\n",
    "\n",
    "df_subset = df[['Label', 'Review']]\n",
    "df_subset2 = df2[['LABEL', 'REVIEW_TEXT']]\n",
    "df_subset3 = df3[['deceptive', 'text']]\n",
    "df_subset4 = df4[['review', 'label']]\n",
    "\n",
    "label_counts = df_subset['Label'].value_counts()\n",
    "label_counts2 = df_subset2['LABEL'].value_counts()\n",
    "label_counts3 = df_subset3['deceptive'].value_counts()\n",
    "label_counts4 = df_subset4['label'].value_counts()\n",
    "print(\"\\nLabel distribution:\\n\", label_counts)\n",
    "print(\"\\nLabel distribution:\\n\", label_counts2)\n",
    "print(\"\\nLabel distribution:\\n\", label_counts3)\n",
    "print(\"\\nLabel distribution:\\n\", label_counts4)"
   ]
  }
 ],
 "metadata": {
  "kernelspec": {
   "display_name": "tf216",
   "language": "python",
   "name": "python3"
  },
  "language_info": {
   "codemirror_mode": {
    "name": "ipython",
    "version": 3
   },
   "file_extension": ".py",
   "mimetype": "text/x-python",
   "name": "python",
   "nbconvert_exporter": "python",
   "pygments_lexer": "ipython3",
   "version": "3.10.16"
  }
 },
 "nbformat": 4,
 "nbformat_minor": 5
}
