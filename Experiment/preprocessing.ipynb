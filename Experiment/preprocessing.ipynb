{
 "cells": [
  {
   "cell_type": "code",
   "execution_count": null,
   "id": "bf7d56fc",
   "metadata": {},
   "outputs": [],
   "source": [
    "import pandas as pd\n",
    "import numpy as np\n",
    "import matplotlib.pyplot as plt\n",
    "import nltk\n",
    "from nltk.tokenize import word_tokenize\n",
    "import re\n",
    "from nltk.corpus import stopwords\n",
    "from nltk.stem import WordNetLemmatizer\n",
    "import joblib\n",
    "import os\n",
    "from sklearn.feature_extraction.text import TfidfVectorizer\n",
    "from sklearn.pipeline import Pipeline\n",
    "\n",
    "nltk.download('punkt')\n",
    "nltk.download('punkt_tab')\n",
    "nltk.download('stopwords', quiet=True)\n",
    "nltk.download('wordnet', quiet=True)"
   ]
  },
  {
   "cell_type": "code",
   "execution_count": null,
   "id": "c20538ea",
   "metadata": {},
   "outputs": [],
   "source": [
    "file_path = './Datasets/Yelp Amazon Mixed Reviews.csv'\n",
    "df = pd.read_csv(file_path)\n",
    "\n",
    "print(df.head())\n",
    "print(df.columns.tolist())"
   ]
  },
  {
   "cell_type": "code",
   "execution_count": null,
   "id": "f520f63d",
   "metadata": {},
   "outputs": [],
   "source": [
    "def preprocess_text(text):\n",
    "    normalized = re.sub(r'\\s+', ' ', str(text)).strip().lower()\n",
    "    \n",
    "    tokens = word_tokenize(normalized)\n",
    "    \n",
    "    stop_words = set(stopwords.words('english'))\n",
    "    filtered_tokens = [token for token in tokens if token not in stop_words]\n",
    "    \n",
    "    lemmatizer = WordNetLemmatizer()\n",
    "    lemmatized_tokens = [lemmatizer.lemmatize(token) for token in filtered_tokens]\n",
    "    \n",
    "    return normalized, tokens, filtered_tokens, lemmatized_tokens\n",
    "\n",
    "\n",
    "sample_df = df.head(5).copy()\n",
    "preprocessed_results = [preprocess_text(text) for text in sample_df['ReviewText']]\n",
    "sample_df['normalized_text'] = [result[0] for result in preprocessed_results]\n",
    "sample_df['tokens'] = [result[1] for result in preprocessed_results]\n",
    "sample_df['tokens_no_stopwords'] = [result[2] for result in preprocessed_results]\n",
    "sample_df['lemmatized_tokens'] = [result[3] for result in preprocessed_results]\n",
    "\n",
    "for i, row in sample_df.iterrows():\n",
    "    print(f\"\\nIndex {i}:\")\n",
    "    print(f\"Original: {row['ReviewText'][:50]}...\")\n",
    "    print(f\"Normalized: {row['normalized_text'][:50]}...\")\n",
    "    print(f\"First 5 tokens: {row['tokens'][:5]}\")\n",
    "    print(f\"First 5 tokens without stopwords: {row['tokens_no_stopwords'][:5]}\")\n",
    "    print(f\"First 5 lemmatized tokens: {row['lemmatized_tokens'][:5]}\")\n",
    "\n",
    "df_processed = df.copy()\n",
    "preprocessed_results = [preprocess_text(text) for text in df['ReviewText']]\n",
    "\n",
    "df_processed['preprocessed_text'] = [' '.join(result[3]) for result in preprocessed_results]\n",
    "df_processed['lemmatized_tokens'] = [result[3] for result in preprocessed_results]\n",
    "\n",
    "print(df_processed[['ReviewText', 'preprocessed_text']].head(3))"
   ]
  },
  {
   "cell_type": "markdown",
   "id": "ed545fd7",
   "metadata": {},
   "source": [
    "# TF-IDF, N-Gram"
   ]
  },
  {
   "cell_type": "code",
   "execution_count": null,
   "id": "df6ce510",
   "metadata": {},
   "outputs": [],
   "source": [
    "tfidf_vectorizer = TfidfVectorizer(\n",
    "    min_df=5,              \n",
    "    max_df=0.95,           \n",
    "    ngram_range=(1, 2), \n",
    "    sublinear_tf=True      \n",
    ")\n",
    "\n",
    "X_tfidf = tfidf_vectorizer.fit_transform(df_processed['preprocessed_text'])\n",
    "\n",
    "feature_names = tfidf_vectorizer.get_feature_names_out()\n",
    "\n",
    "bigrams = [feature for feature in feature_names if ' ' in feature]\n",
    "\n",
    "sample_idx = 0\n",
    "sample_vector = X_tfidf[sample_idx]\n",
    "non_zero_indices = sample_vector.nonzero()[1]\n",
    "\n",
    "y = df_processed['Label']\n",
    "print(f\"\\nLabels distribution:\")\n",
    "print(y.value_counts())\n",
    "\n",
    "prepared_data = {\n",
    "    'X_tfidf': X_tfidf,\n",
    "    'y': y,\n",
    "    'feature_names': feature_names,\n",
    "    'vectorizer': tfidf_vectorizer\n",
    "}"
   ]
  },
  {
   "cell_type": "code",
   "execution_count": null,
   "id": "2703dcfe",
   "metadata": {},
   "outputs": [],
   "source": [
    "save_dir = '../Experiment/PreprocessedData'\n",
    "os.makedirs(save_dir, exist_ok=True)\n",
    "\n",
    "save_path = os.path.join(save_dir, 'Yelp&AmazonPrepared.joblib')\n",
    "joblib.dump(prepared_data, save_path)"
   ]
  }
 ],
 "metadata": {
  "kernelspec": {
   "display_name": "tf216",
   "language": "python",
   "name": "python3"
  },
  "language_info": {
   "codemirror_mode": {
    "name": "ipython",
    "version": 3
   },
   "file_extension": ".py",
   "mimetype": "text/x-python",
   "name": "python",
   "nbconvert_exporter": "python",
   "pygments_lexer": "ipython3",
   "version": "3.10.16"
  }
 },
 "nbformat": 4,
 "nbformat_minor": 5
}
